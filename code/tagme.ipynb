{
 "cells": [
  {
   "cell_type": "code",
   "execution_count": 1,
   "id": "c9bdf931",
   "metadata": {},
   "outputs": [],
   "source": [
    "import json\n",
    "import requests\n",
    "#import truecase"
   ]
  },
  {
   "cell_type": "code",
   "execution_count": 2,
   "id": "fd337dc8",
   "metadata": {},
   "outputs": [],
   "source": [
    "#MY_GCUBE_TOKEN = 'f08bb655-6465-4cdb-a5b2-7b7195cea1d7-843339462'\n",
    "MY_GCUBE_TOKEN = '9dc5f6c0-3040-411b-9687-75ca53249072-843339462'"
   ]
  },
  {
   "cell_type": "code",
   "execution_count": 3,
   "id": "2846c499",
   "metadata": {},
   "outputs": [],
   "source": [
    "def get_wikipedialink(pageid):\n",
    "    info_url = \"https://en.wikipedia.org/w/api.php?action=query&prop=info&pageids=\" + pageid + \"&inprop=url&format=json\"\n",
    "    try:\n",
    "        response = requests.get(info_url)\n",
    "        result = response.json()[\"query\"][\"pages\"]\n",
    "        if result:\n",
    "            link = result[pageid]['fullurl']\n",
    "            return link\n",
    "    except:\n",
    "        print(\"get_wikipedialink problem\", pageid)\n",
    "\n"
   ]
  },
  {
   "cell_type": "code",
   "execution_count": 4,
   "id": "47fbb7ed",
   "metadata": {},
   "outputs": [],
   "source": [
    "def get_qid(wikipedia_link):\n",
    "\turl = \"https://tools.wmflabs.org/openrefine-wikidata/en/api?query=\" + wikipedia_link\n",
    "\ttry:\n",
    "\t\tresponse = requests.get (url)\n",
    "\t\tresults = response.json ()[\"result\"]\n",
    "\t\tif results:\n",
    "\t\t\tqid = results[0]['id']\n",
    "\t\t\twikidata_label = results[0]['name']\n",
    "\t\t\treturn qid, wikidata_label\n",
    "\texcept:\n",
    "\t\tprint (\"get_qid problem\", wikipedia_link)"
   ]
  },
  {
   "cell_type": "code",
   "execution_count": 5,
   "id": "793370b8",
   "metadata": {},
   "outputs": [],
   "source": [
    "def tagme_entity_linking(text):\n",
    "    # Main method, text annotation with WAT entity linking system\n",
    "    tagme_url = 'https://tagme.d4science.org/tagme/tag?lang=en&gcube-token=9dc5f6c0-3040-411b-9687-75ca53249072-843339462&text=' + text\n",
    "    try:\n",
    "        response = requests.get(tagme_url)\n",
    "        tagme_annotations = [TagMeAnnotation(a) for a in response.json()['annotations']]\n",
    "        return [w.json_dict() for w in tagme_annotations]\n",
    "    except:\n",
    "        print(\"here is a timeout error!\")\n",
    "        return None\n",
    "\n",
    "class TagMeAnnotation:\n",
    "    # An entity annotated by WAT\n",
    "\n",
    "    def __init__(self, d):\n",
    "\n",
    "        # char offset (included)\n",
    "        self.start = d['start']\n",
    "        # char offset (not included)\n",
    "        self.end = d['end']\n",
    "\n",
    "        # annotation accuracy\n",
    "        self.rho = d['rho']\n",
    "        # spot-entity probability\n",
    "        self.prior_prob = d['link_probability']\n",
    "        # annotated text\n",
    "        self.spot = d['spot']\n",
    "        # Wikpedia entity info\n",
    "        self.wiki_id = d['id']\n",
    "        self.wiki_title = d['title']\n",
    "\n",
    "    def json_dict(self):\n",
    "        # Simple dictionary representation\n",
    "        return {'wiki_title': self.wiki_title,\n",
    "                'wiki_id': self.wiki_id,\n",
    "                'start': self.start,\n",
    "                'end': self.end,\n",
    "                'rho': self.rho,\n",
    "                'prior_prob': self.prior_prob\n",
    "                }\n",
    "\n",
    "class EntityLinkTagMeMatch():\n",
    "    def __init__(self, tagme_threshold=0):\n",
    "        self.tagme_threshold = tagme_threshold\n",
    "\n",
    "    def get_entities_tagme(self, ques_truecase):\n",
    "        tagme_ent = self.get_response_tagme(ques_truecase)\n",
    "        tagme_ent['wikidata'] = []\n",
    "        for link in tagme_ent['spot']:\n",
    "            pageid = link[2]\n",
    "            wikipedia_link = get_wikipedialink(pageid)\n",
    "            if wikipedia_link:\n",
    "                try:\n",
    "                    wikidata_id, wikidata_label = get_qid(wikipedia_link)\n",
    "                    if wikidata_id:\n",
    "                        tagme_ent['wikidata'].append((wikidata_id, wikidata_label, link[1]))\n",
    "                except:\n",
    "                    print (wikipedia_link)\n",
    "                    continue\n",
    "        return tagme_ent\n",
    "\n",
    "    def get_response_tagme(self, ques):\n",
    "        tagme_ent = {}\n",
    "        tagme_ent['spot'] = []\n",
    "        try:\n",
    "            annotations = tagme_entity_linking(ques)\n",
    "            # print (annotations)\n",
    "            if annotations:\n",
    "                for doc in annotations:\n",
    "                    if doc['rho'] >= self.tagme_threshold:\n",
    "                        doc['spot'] = ques[doc[\"start\"]:doc[\"end\"]]\n",
    "                        tagme_ent['spot'].append(\n",
    "                            (doc['spot'], doc['wiki_title'], str(doc['wiki_id']), doc['rho'], doc['start'], doc['end']))\n",
    "        except:\n",
    "            print(\"TAGME Problem \\n\", ques)\n",
    "        return tagme_ent"
   ]
  },
  {
   "cell_type": "code",
   "execution_count": 12,
   "id": "a1a926cf",
   "metadata": {},
   "outputs": [],
   "source": [
    "def get_seed_entities_tagme(TAGME, question):\n",
    "    wiki_ids = set()\n",
    "    tagme_ent = TAGME.get_entities_tagme(question)\n",
    "    print (tagme_ent['wikidata'],'\\n')\n",
    "    if 'wikidata' in tagme_ent and 'spot' in tagme_ent:\n",
    "        for id1 in tagme_ent['wikidata']:\n",
    "            index = tagme_ent['wikidata'].index(id1)\n",
    "            text = tagme_ent['spot'][index][0].lower()\n",
    "            score = float(tagme_ent['spot'][index][3])\n",
    "            wiki_ids.add((id1[0], score, text, id1[1]))\n",
    "\n",
    "    for item in wiki_ids:\n",
    "        print(str(item[0]) + '\\t' + str(item[1]) + '\\t' + str(item[2])  + '\\t' + str(item[3])  + '\\n')"
   ]
  },
  {
   "cell_type": "code",
   "execution_count": 13,
   "id": "7651b5a8",
   "metadata": {},
   "outputs": [
    {
     "name": "stdout",
     "output_type": "stream",
     "text": [
      "[('Q7817', 'World Health Organization', 'World Health Organization'), ('Q616622', 'first-person narrative', 'First-person narrative'), ('Q213713', 'developmental biology', 'Developmental biology'), ('Q1063', 'evolution', 'Evolution')] \n",
      "\n",
      "Q1063\t0.32662642002105713\ttheory of evolution\tevolution\n",
      "\n",
      "Q7817\t0.08372577279806137\twho\tWorld Health Organization\n",
      "\n",
      "Q616622\t0.07011064141988754\tfirst person\tfirst-person narrative\n",
      "\n",
      "Q213713\t0.1362290233373642\tdevelop\tdevelopmental biology\n",
      "\n"
     ]
    }
   ],
   "source": [
    "tagme_threshold = 0\n",
    "TAGME = EntityLinkTagMeMatch(tagme_threshold)\n",
    "question = \"Who was the first person to develop the theory of evolution?\"\n",
    "get_seed_entities_tagme(TAGME,question)\n"
   ]
  },
  {
   "cell_type": "code",
   "execution_count": null,
   "id": "cf877cf0",
   "metadata": {},
   "outputs": [],
   "source": []
  }
 ],
 "metadata": {
  "kernelspec": {
   "display_name": "Python 3 (ipykernel)",
   "language": "python",
   "name": "python3"
  },
  "language_info": {
   "codemirror_mode": {
    "name": "ipython",
    "version": 3
   },
   "file_extension": ".py",
   "mimetype": "text/x-python",
   "name": "python",
   "nbconvert_exporter": "python",
   "pygments_lexer": "ipython3",
   "version": "3.7.11"
  }
 },
 "nbformat": 4,
 "nbformat_minor": 5
}
